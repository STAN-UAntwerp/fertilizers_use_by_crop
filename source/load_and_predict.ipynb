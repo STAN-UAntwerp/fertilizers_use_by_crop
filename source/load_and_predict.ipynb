{
 "cells": [
  {
   "cell_type": "code",
   "execution_count": 1,
   "metadata": {},
   "outputs": [
    {
     "name": "stdout",
     "output_type": "stream",
     "text": [
      "2024-01-12 10:04:20,919 - DEBUG - config_loader.py:18 - Loading data configuration\n",
      "2024-01-12 10:04:20,929 - INFO - __init__.py:19 - Loading HistGradientBoostRegressor\n",
      "2024-01-12 10:04:21,238 - DEBUG - __init__.py:350 - matplotlib data path: c:\\Users\\steve\\anaconda3\\envs\\fertilizer_usage\\lib\\site-packages\\matplotlib\\mpl-data\n",
      "2024-01-12 10:04:21,245 - DEBUG - __init__.py:350 - CONFIGDIR=C:\\Users\\steve\\.matplotlib\n",
      "2024-01-12 10:04:21,249 - DEBUG - __init__.py:1511 - interactive is False\n",
      "2024-01-12 10:04:21,250 - DEBUG - __init__.py:1512 - platform is win32\n",
      "2024-01-12 10:04:21,378 - DEBUG - __init__.py:350 - CACHEDIR=C:\\Users\\steve\\.matplotlib\n",
      "2024-01-12 10:04:21,389 - DEBUG - font_manager.py:1574 - Using fontManager instance from C:\\Users\\steve\\.matplotlib\\fontlist-v330.json\n",
      "2024-01-12 10:04:22,340 - DEBUG - config_loader.py:18 - Loading data configuration\n",
      "2024-01-12 10:04:22,344 - DEBUG - config_loader.py:18 - Loading data configuration\n",
      "2024-01-12 10:04:22,348 - INFO - __init__.py:19 - Loading XgboostRegressor\n",
      "2024-01-12 10:04:22,422 - DEBUG - config_loader.py:18 - Loading data configuration\n",
      "2024-01-12 10:04:22,428 - DEBUG - config_loader.py:18 - Loading data configuration\n"
     ]
    }
   ],
   "source": [
    "import numpy as np\n",
    "import pandas as pd\n",
    "from pathlib import Path\n",
    "import sys\n",
    "import logging\n",
    "from pprint import pprint\n",
    "\n",
    "from sklearn.model_selection import KFold\n",
    "\n",
    "sys.path.append(Path('.').absolute().parent.resolve().as_posix())\n",
    "sys.path.append((Path('.').absolute().parent / 'source').resolve().as_posix())\n",
    "from data_loader import config_loader, data_preprocessing\n",
    "from logging_util.logger import get_logger\n",
    "from models import estimators\n",
    "from evaluation import evaluation\n",
    "\n",
    "config = config_loader.load_config()\n",
    "logger = get_logger(__name__)\n",
    "logging.getLogger(\"PIL\").setLevel(logging.WARNING)\n",
    "logging.getLogger('matplotlib').setLevel(logging.WARNING)"
   ]
  },
  {
   "cell_type": "code",
   "execution_count": 2,
   "metadata": {},
   "outputs": [
    {
     "data": {
      "text/plain": [
       "{'HistGradientBoostRegressor': models.HistGradientBoostRegressor.estimator.HistGradientBoostEstimator,\n",
       " 'XgboostRegressor': models.XgboostRegressor.estimator.XGBoostEstimator}"
      ]
     },
     "execution_count": 2,
     "metadata": {},
     "output_type": "execute_result"
    }
   ],
   "source": [
    "estimators"
   ]
  },
  {
   "cell_type": "code",
   "execution_count": 3,
   "metadata": {},
   "outputs": [],
   "source": [
    "target = 'K2O_avg_app'\n",
    "config.target = target"
   ]
  },
  {
   "cell_type": "code",
   "execution_count": 4,
   "metadata": {},
   "outputs": [
    {
     "data": {
      "text/plain": [
       "WindowsPath('C:/Users/steve/OneDrive - Universiteit Antwerpen/Documenten/00IDLab/projects/crop_database_imputation/results/K2O_avg_app')"
      ]
     },
     "execution_count": 4,
     "metadata": {},
     "output_type": "execute_result"
    }
   ],
   "source": [
    "resultspath = Path().resolve().parent.resolve() / 'results' / target\n",
    "resultspath"
   ]
  },
  {
   "cell_type": "code",
   "execution_count": 5,
   "metadata": {},
   "outputs": [
    {
     "name": "stdout",
     "output_type": "stream",
     "text": [
      "HistGradientBoostRegressor\n",
      "False\n",
      "XgboostRegressor\n"
     ]
    },
    {
     "ename": "ValueError",
     "evalue": "feature_names mismatch: ['Year', 'Area_report', 'Fert_perc', 'Area_fert', 'Area_FAOStat', 'Perc_Agr_Area_FAOStat', 'GDP_Capita_WB', 'GDP_perCapita_UN', 'Urea_Price', 'P_rock_Price', 'K2O_Price', 'Crop_Global_Price', 'Country_total_N', 'Country_total_P2O5', 'Country_total_K2O', 'Area_Irrig', 'Edu_Exp', 'pop_pressure', 'Avg_Size_Hold', 'Avg_Size_Hold_stand', 'MAP', 'N_removal', 'P_removal', 'K_removal', 'N_removal_ha', 'P_removal_ha', 'K_removal_ha', 'Avg_sqKm', 'K2O_perc_area', 'P_cost', 'N_cost', 'K_cost', 'soil_clay', 'soil_ph', 'soil_sand', 'soil_silt', 'soil_cec', 'soil_nitrogen', 'soil_ocs', 'AI', 'K2O_ha_cropland', 'P2O5_ha_cropland', 'N_ha_cropland', 'PET', 'TMN', 'Crop_Price_Real', 'Crop_Price_Nominal', 'n_mac_ag', 'Crop_Code_1_1', 'Crop_Code_1_2', 'Crop_Code_1_3', 'Crop_Code_1_4', 'Crop_Code_2_1', 'Crop_Code_2_2', 'Crop_Code_2_3', 'Crop_Code_3_1', 'Crop_Code_3_2', 'Crop_Code_4', 'Crop_Code_5', 'Crop_Code_6', 'Crop_Code_7', 'Region_Name_Australia and New Zealand', 'Region_Name_Caribbean', 'Region_Name_Central America', 'Region_Name_Central Asia', 'Region_Name_Eastern Africa', 'Region_Name_Eastern Asia', 'Region_Name_Eastern Europe', 'Region_Name_Melanesia', 'Region_Name_Middle Africa', 'Region_Name_Northern Africa', 'Region_Name_Northern America', 'Region_Name_Northern Europe', 'Region_Name_South America', 'Region_Name_South-eastern Asia', 'Region_Name_Southern Africa', 'Region_Name_Southern Asia', 'Region_Name_Southern Europe', 'Region_Name_Western Africa', 'Region_Name_Western Asia', 'Region_Name_Western Europe', 'FAOStat_area_code_10', 'FAOStat_area_code_100', 'FAOStat_area_code_101', 'FAOStat_area_code_102', 'FAOStat_area_code_104', 'FAOStat_area_code_105', 'FAOStat_area_code_106', 'FAOStat_area_code_107', 'FAOStat_area_code_11', 'FAOStat_area_code_110', 'FAOStat_area_code_112', 'FAOStat_area_code_114', 'FAOStat_area_code_115', 'FAOStat_area_code_117', 'FAOStat_area_code_118', 'FAOStat_area_code_119', 'FAOStat_area_code_12', 'FAOStat_area_code_120', 'FAOStat_area_code_121', 'FAOStat_area_code_122', 'FAOStat_area_code_126', 'FAOStat_area_code_129', 'FAOStat_area_code_130', 'FAOStat_area_code_131', 'FAOStat_area_code_133', 'FAOStat_area_code_134', 'FAOStat_area_code_137', 'FAOStat_area_code_138', 'FAOStat_area_code_143', 'FAOStat_area_code_146', 'FAOStat_area_code_149', 'FAOStat_area_code_150', 'FAOStat_area_code_156', 'FAOStat_area_code_157', 'FAOStat_area_code_158', 'FAOStat_area_code_159', 'FAOStat_area_code_16', 'FAOStat_area_code_162', 'FAOStat_area_code_165', 'FAOStat_area_code_166', 'FAOStat_area_code_167', 'FAOStat_area_code_169', 'FAOStat_area_code_170', 'FAOStat_area_code_171', 'FAOStat_area_code_173', 'FAOStat_area_code_174', 'FAOStat_area_code_181', 'FAOStat_area_code_183', 'FAOStat_area_code_185', 'FAOStat_area_code_19', 'FAOStat_area_code_194', 'FAOStat_area_code_195', 'FAOStat_area_code_198', 'FAOStat_area_code_199', 'FAOStat_area_code_2', 'FAOStat_area_code_201', 'FAOStat_area_code_202', 'FAOStat_area_code_203', 'FAOStat_area_code_206', 'FAOStat_area_code_208', 'FAOStat_area_code_21', 'FAOStat_area_code_210', 'FAOStat_area_code_211', 'FAOStat_area_code_212', 'FAOStat_area_code_214', 'FAOStat_area_code_215', 'FAOStat_area_code_216', 'FAOStat_area_code_217', 'FAOStat_area_code_221', 'FAOStat_area_code_222', 'FAOStat_area_code_223', 'FAOStat_area_code_225', 'FAOStat_area_code_229', 'FAOStat_area_code_230', 'FAOStat_area_code_231', 'FAOStat_area_code_233', 'FAOStat_area_code_234', 'FAOStat_area_code_235', 'FAOStat_area_code_236', 'FAOStat_area_code_237', 'FAOStat_area_code_238', 'FAOStat_area_code_246', 'FAOStat_area_code_247', 'FAOStat_area_code_249', 'FAOStat_area_code_251', 'FAOStat_area_code_255', 'FAOStat_area_code_27', 'FAOStat_area_code_28', 'FAOStat_area_code_29', 'FAOStat_area_code_3', 'FAOStat_area_code_32', 'FAOStat_area_code_33', 'FAOStat_area_code_37', 'FAOStat_area_code_38', 'FAOStat_area_code_39', 'FAOStat_area_code_4', 'FAOStat_area_code_40', 'FAOStat_area_code_41', 'FAOStat_area_code_44', 'FAOStat_area_code_48', 'FAOStat_area_code_50', 'FAOStat_area_code_52', 'FAOStat_area_code_53', 'FAOStat_area_code_54', 'FAOStat_area_code_56', 'FAOStat_area_code_57', 'FAOStat_area_code_58', 'FAOStat_area_code_59', 'FAOStat_area_code_60', 'FAOStat_area_code_63', 'FAOStat_area_code_66', 'FAOStat_area_code_67', 'FAOStat_area_code_68', 'FAOStat_area_code_7', 'FAOStat_area_code_75', 'FAOStat_area_code_78', 'FAOStat_area_code_79', 'FAOStat_area_code_81', 'FAOStat_area_code_84', 'FAOStat_area_code_89', 'FAOStat_area_code_9', 'FAOStat_area_code_90', 'FAOStat_area_code_91', 'FAOStat_area_code_95', 'FAOStat_area_code_97', 'FAOStat_area_code_98'] ['Year', 'Area_report', 'Fert_perc', 'Area_fert', 'Area_FAOStat', 'Perc_Agr_Area_FAOStat', 'GDP_Capita_WB', 'GDP_perCapita_UN', 'Urea_Price', 'P_rock_Price', 'K2O_Price', 'Crop_Global_Price', 'Country_total_N', 'Country_total_P2O5', 'Country_total_K2O', 'Area_Irrig', 'Edu_Exp', 'pop_pressure', 'Avg_Size_Hold', 'Avg_Size_Hold_stand', 'MAP', 'N_removal', 'P_removal', 'K_removal', 'N_removal_ha', 'P_removal_ha', 'K_removal_ha', 'Avg_sqKm', 'K2O_perc_area', 'P_cost', 'N_cost', 'K_cost', 'soil_clay', 'soil_ph', 'soil_sand', 'soil_silt', 'soil_cec', 'soil_nitrogen', 'soil_ocs', 'AI', 'K2O_ha_cropland', 'P2O5_ha_cropland', 'N_ha_cropland', 'PET', 'TMN', 'Crop_Price_Real', 'Crop_Price_Nominal', 'n_mac_ag', 'Crop_Code_1_1', 'Crop_Code_1_2', 'Crop_Code_1_3', 'Crop_Code_1_4', 'Crop_Code_2_1', 'Crop_Code_2_2', 'Crop_Code_2_3', 'Crop_Code_3_1', 'Crop_Code_3_2', 'Crop_Code_4', 'Crop_Code_5', 'Crop_Code_6', 'Crop_Code_7', 'Region_Name_Australia and New Zealand', 'Region_Name_Caribbean', 'Region_Name_Central America', 'Region_Name_Central Asia', 'Region_Name_Eastern Africa', 'Region_Name_Eastern Asia', 'Region_Name_Eastern Europe', 'Region_Name_Melanesia', 'Region_Name_Micronesia', 'Region_Name_Middle Africa', 'Region_Name_Northern Africa', 'Region_Name_Northern America', 'Region_Name_Northern Europe', 'Region_Name_Polynesia', 'Region_Name_South America', 'Region_Name_South-eastern Asia', 'Region_Name_Southern Africa', 'Region_Name_Southern Asia', 'Region_Name_Southern Europe', 'Region_Name_Western Africa', 'Region_Name_Western Asia', 'Region_Name_Western Europe', 'FAOStat_area_code_1', 'FAOStat_area_code_10', 'FAOStat_area_code_100', 'FAOStat_area_code_101', 'FAOStat_area_code_102', 'FAOStat_area_code_103', 'FAOStat_area_code_104', 'FAOStat_area_code_105', 'FAOStat_area_code_106', 'FAOStat_area_code_107', 'FAOStat_area_code_108', 'FAOStat_area_code_109', 'FAOStat_area_code_11', 'FAOStat_area_code_110', 'FAOStat_area_code_112', 'FAOStat_area_code_113', 'FAOStat_area_code_114', 'FAOStat_area_code_115', 'FAOStat_area_code_116', 'FAOStat_area_code_117', 'FAOStat_area_code_118', 'FAOStat_area_code_119', 'FAOStat_area_code_12', 'FAOStat_area_code_120', 'FAOStat_area_code_121', 'FAOStat_area_code_122', 'FAOStat_area_code_123', 'FAOStat_area_code_124', 'FAOStat_area_code_126', 'FAOStat_area_code_127', 'FAOStat_area_code_128', 'FAOStat_area_code_129', 'FAOStat_area_code_13', 'FAOStat_area_code_130', 'FAOStat_area_code_131', 'FAOStat_area_code_132', 'FAOStat_area_code_133', 'FAOStat_area_code_134', 'FAOStat_area_code_135', 'FAOStat_area_code_136', 'FAOStat_area_code_137', 'FAOStat_area_code_138', 'FAOStat_area_code_14', 'FAOStat_area_code_141', 'FAOStat_area_code_143', 'FAOStat_area_code_144', 'FAOStat_area_code_145', 'FAOStat_area_code_146', 'FAOStat_area_code_147', 'FAOStat_area_code_148', 'FAOStat_area_code_149', 'FAOStat_area_code_150', 'FAOStat_area_code_153', 'FAOStat_area_code_154', 'FAOStat_area_code_155', 'FAOStat_area_code_156', 'FAOStat_area_code_157', 'FAOStat_area_code_158', 'FAOStat_area_code_159', 'FAOStat_area_code_16', 'FAOStat_area_code_160', 'FAOStat_area_code_162', 'FAOStat_area_code_165', 'FAOStat_area_code_166', 'FAOStat_area_code_167', 'FAOStat_area_code_168', 'FAOStat_area_code_169', 'FAOStat_area_code_170', 'FAOStat_area_code_171', 'FAOStat_area_code_173', 'FAOStat_area_code_174', 'FAOStat_area_code_175', 'FAOStat_area_code_176', 'FAOStat_area_code_177', 'FAOStat_area_code_178', 'FAOStat_area_code_179', 'FAOStat_area_code_18', 'FAOStat_area_code_181', 'FAOStat_area_code_182', 'FAOStat_area_code_183', 'FAOStat_area_code_184', 'FAOStat_area_code_185', 'FAOStat_area_code_186', 'FAOStat_area_code_188', 'FAOStat_area_code_189', 'FAOStat_area_code_19', 'FAOStat_area_code_191', 'FAOStat_area_code_193', 'FAOStat_area_code_194', 'FAOStat_area_code_195', 'FAOStat_area_code_196', 'FAOStat_area_code_197', 'FAOStat_area_code_198', 'FAOStat_area_code_199', 'FAOStat_area_code_2', 'FAOStat_area_code_20', 'FAOStat_area_code_200', 'FAOStat_area_code_201', 'FAOStat_area_code_202', 'FAOStat_area_code_203', 'FAOStat_area_code_206', 'FAOStat_area_code_207', 'FAOStat_area_code_208', 'FAOStat_area_code_209', 'FAOStat_area_code_21', 'FAOStat_area_code_210', 'FAOStat_area_code_211', 'FAOStat_area_code_212', 'FAOStat_area_code_213', 'FAOStat_area_code_214', 'FAOStat_area_code_215', 'FAOStat_area_code_216', 'FAOStat_area_code_217', 'FAOStat_area_code_218', 'FAOStat_area_code_219', 'FAOStat_area_code_220', 'FAOStat_area_code_221', 'FAOStat_area_code_222', 'FAOStat_area_code_223', 'FAOStat_area_code_225', 'FAOStat_area_code_226', 'FAOStat_area_code_227', 'FAOStat_area_code_228', 'FAOStat_area_code_229', 'FAOStat_area_code_23', 'FAOStat_area_code_230', 'FAOStat_area_code_231', 'FAOStat_area_code_233', 'FAOStat_area_code_234', 'FAOStat_area_code_235', 'FAOStat_area_code_236', 'FAOStat_area_code_237', 'FAOStat_area_code_238', 'FAOStat_area_code_244', 'FAOStat_area_code_246', 'FAOStat_area_code_247', 'FAOStat_area_code_248', 'FAOStat_area_code_249', 'FAOStat_area_code_25', 'FAOStat_area_code_250', 'FAOStat_area_code_251', 'FAOStat_area_code_255', 'FAOStat_area_code_256', 'FAOStat_area_code_26', 'FAOStat_area_code_27', 'FAOStat_area_code_272', 'FAOStat_area_code_273', 'FAOStat_area_code_276', 'FAOStat_area_code_277', 'FAOStat_area_code_28', 'FAOStat_area_code_29', 'FAOStat_area_code_299', 'FAOStat_area_code_3', 'FAOStat_area_code_32', 'FAOStat_area_code_33', 'FAOStat_area_code_35', 'FAOStat_area_code_351', 'FAOStat_area_code_37', 'FAOStat_area_code_38', 'FAOStat_area_code_39', 'FAOStat_area_code_4', 'FAOStat_area_code_40', 'FAOStat_area_code_41', 'FAOStat_area_code_44', 'FAOStat_area_code_45', 'FAOStat_area_code_46', 'FAOStat_area_code_47', 'FAOStat_area_code_48', 'FAOStat_area_code_49', 'FAOStat_area_code_50', 'FAOStat_area_code_51', 'FAOStat_area_code_52', 'FAOStat_area_code_53', 'FAOStat_area_code_54', 'FAOStat_area_code_55', 'FAOStat_area_code_56', 'FAOStat_area_code_57', 'FAOStat_area_code_58', 'FAOStat_area_code_59', 'FAOStat_area_code_60', 'FAOStat_area_code_61', 'FAOStat_area_code_62', 'FAOStat_area_code_63', 'FAOStat_area_code_64', 'FAOStat_area_code_66', 'FAOStat_area_code_67', 'FAOStat_area_code_68', 'FAOStat_area_code_69', 'FAOStat_area_code_7', 'FAOStat_area_code_70', 'FAOStat_area_code_72', 'FAOStat_area_code_73', 'FAOStat_area_code_74', 'FAOStat_area_code_75', 'FAOStat_area_code_78', 'FAOStat_area_code_79', 'FAOStat_area_code_8', 'FAOStat_area_code_80', 'FAOStat_area_code_81', 'FAOStat_area_code_83', 'FAOStat_area_code_84', 'FAOStat_area_code_86', 'FAOStat_area_code_87', 'FAOStat_area_code_89', 'FAOStat_area_code_9', 'FAOStat_area_code_90', 'FAOStat_area_code_91', 'FAOStat_area_code_93', 'FAOStat_area_code_95', 'FAOStat_area_code_96', 'FAOStat_area_code_97', 'FAOStat_area_code_98', 'FAOStat_area_code_99']\ntraining data did not have the following fields: FAOStat_area_code_45, FAOStat_area_code_189, FAOStat_area_code_70, FAOStat_area_code_55, FAOStat_area_code_256, FAOStat_area_code_46, FAOStat_area_code_273, FAOStat_area_code_228, FAOStat_area_code_73, FAOStat_area_code_124, Region_Name_Polynesia, FAOStat_area_code_250, FAOStat_area_code_272, FAOStat_area_code_147, FAOStat_area_code_96, FAOStat_area_code_196, FAOStat_area_code_93, FAOStat_area_code_186, FAOStat_area_code_153, FAOStat_area_code_1, FAOStat_area_code_51, FAOStat_area_code_26, FAOStat_area_code_227, FAOStat_area_code_244, FAOStat_area_code_35, FAOStat_area_code_47, FAOStat_area_code_14, FAOStat_area_code_86, FAOStat_area_code_193, FAOStat_area_code_103, FAOStat_area_code_219, FAOStat_area_code_154, FAOStat_area_code_148, FAOStat_area_code_218, FAOStat_area_code_109, FAOStat_area_code_213, FAOStat_area_code_176, FAOStat_area_code_226, FAOStat_area_code_99, FAOStat_area_code_209, FAOStat_area_code_49, FAOStat_area_code_175, FAOStat_area_code_178, FAOStat_area_code_277, FAOStat_area_code_61, FAOStat_area_code_207, FAOStat_area_code_25, FAOStat_area_code_69, FAOStat_area_code_13, FAOStat_area_code_168, FAOStat_area_code_276, FAOStat_area_code_135, FAOStat_area_code_20, FAOStat_area_code_80, Region_Name_Micronesia, FAOStat_area_code_200, FAOStat_area_code_64, FAOStat_area_code_116, FAOStat_area_code_127, FAOStat_area_code_83, FAOStat_area_code_299, FAOStat_area_code_72, FAOStat_area_code_136, FAOStat_area_code_18, FAOStat_area_code_108, FAOStat_area_code_184, FAOStat_area_code_62, FAOStat_area_code_23, FAOStat_area_code_145, FAOStat_area_code_182, FAOStat_area_code_351, FAOStat_area_code_113, FAOStat_area_code_132, FAOStat_area_code_160, FAOStat_area_code_188, FAOStat_area_code_87, FAOStat_area_code_74, FAOStat_area_code_141, FAOStat_area_code_144, FAOStat_area_code_155, FAOStat_area_code_177, FAOStat_area_code_123, FAOStat_area_code_8, FAOStat_area_code_128, FAOStat_area_code_197, FAOStat_area_code_220, FAOStat_area_code_191, FAOStat_area_code_179, FAOStat_area_code_248",
     "output_type": "error",
     "traceback": [
      "\u001b[1;31m---------------------------------------------------------------------------\u001b[0m",
      "\u001b[1;31mValueError\u001b[0m                                Traceback (most recent call last)",
      "Cell \u001b[1;32mIn[5], line 35\u001b[0m\n\u001b[0;32m     33\u001b[0m estimator \u001b[38;5;241m=\u001b[39m estimator\u001b[38;5;241m.\u001b[39mload(path\u001b[38;5;241m=\u001b[39mestimator\u001b[38;5;241m.\u001b[39moutput_path, it\u001b[38;5;241m=\u001b[39m\u001b[38;5;241m0\u001b[39m)\n\u001b[0;32m     34\u001b[0m X \u001b[38;5;241m=\u001b[39m load_input_data(resultspath, it\u001b[38;5;241m=\u001b[39m\u001b[38;5;241m0\u001b[39m, test\u001b[38;5;241m=\u001b[39m\u001b[38;5;28;01mTrue\u001b[39;00m, config\u001b[38;5;241m=\u001b[39mconfig)    \n\u001b[1;32m---> 35\u001b[0m y_pred \u001b[38;5;241m=\u001b[39m \u001b[43mmake_prediction\u001b[49m\u001b[43m(\u001b[49m\u001b[43mestimator\u001b[49m\u001b[43m,\u001b[49m\u001b[43m \u001b[49m\u001b[43mX\u001b[49m\u001b[43m,\u001b[49m\u001b[43m \u001b[49m\u001b[43mconfig\u001b[49m\u001b[43m)\u001b[49m\n\u001b[0;32m     37\u001b[0m \u001b[38;5;66;03m# check if the predictions match\u001b[39;00m\n\u001b[0;32m     38\u001b[0m \u001b[38;5;28mprint\u001b[39m((y_pred \u001b[38;5;241m!=\u001b[39m estimator\u001b[38;5;241m.\u001b[39my_pred)\u001b[38;5;241m.\u001b[39many())\n",
      "Cell \u001b[1;32mIn[5], line 24\u001b[0m, in \u001b[0;36mmake_prediction\u001b[1;34m(estimator, X, config)\u001b[0m\n\u001b[0;32m     21\u001b[0m     X \u001b[38;5;241m=\u001b[39m X\u001b[38;5;241m.\u001b[39mdrop(config\u001b[38;5;241m.\u001b[39mtarget, axis\u001b[38;5;241m=\u001b[39m\u001b[38;5;241m1\u001b[39m)\n\u001b[0;32m     22\u001b[0m X \u001b[38;5;241m=\u001b[39m ohe(X, config)\n\u001b[0;32m     23\u001b[0m y_pred \u001b[38;5;241m=\u001b[39m pd\u001b[38;5;241m.\u001b[39mSeries(\n\u001b[1;32m---> 24\u001b[0m         \u001b[43mestimator\u001b[49m\u001b[38;5;241;43m.\u001b[39;49m\u001b[43mmodel\u001b[49m\u001b[38;5;241;43m.\u001b[39;49m\u001b[43mpredict\u001b[49m\u001b[43m(\u001b[49m\u001b[43mX\u001b[49m\u001b[43m)\u001b[49m,\n\u001b[0;32m     25\u001b[0m         index\u001b[38;5;241m=\u001b[39mX\u001b[38;5;241m.\u001b[39mindex,\n\u001b[0;32m     26\u001b[0m         name\u001b[38;5;241m=\u001b[39m\u001b[38;5;124m'\u001b[39m\u001b[38;5;124mpredicted_\u001b[39m\u001b[38;5;124m'\u001b[39m \u001b[38;5;241m+\u001b[39m config\u001b[38;5;241m.\u001b[39mtarget,\n\u001b[0;32m     27\u001b[0m     )\n\u001b[0;32m     28\u001b[0m \u001b[38;5;28;01mreturn\u001b[39;00m y_pred\n",
      "File \u001b[1;32mc:\\Users\\steve\\anaconda3\\envs\\fertilizer_usage\\lib\\site-packages\\xgboost\\sklearn.py:1168\u001b[0m, in \u001b[0;36mXGBModel.predict\u001b[1;34m(self, X, output_margin, validate_features, base_margin, iteration_range)\u001b[0m\n\u001b[0;32m   1166\u001b[0m \u001b[38;5;28;01mif\u001b[39;00m \u001b[38;5;28mself\u001b[39m\u001b[38;5;241m.\u001b[39m_can_use_inplace_predict():\n\u001b[0;32m   1167\u001b[0m     \u001b[38;5;28;01mtry\u001b[39;00m:\n\u001b[1;32m-> 1168\u001b[0m         predts \u001b[38;5;241m=\u001b[39m \u001b[38;5;28;43mself\u001b[39;49m\u001b[38;5;241;43m.\u001b[39;49m\u001b[43mget_booster\u001b[49m\u001b[43m(\u001b[49m\u001b[43m)\u001b[49m\u001b[38;5;241;43m.\u001b[39;49m\u001b[43minplace_predict\u001b[49m\u001b[43m(\u001b[49m\n\u001b[0;32m   1169\u001b[0m \u001b[43m            \u001b[49m\u001b[43mdata\u001b[49m\u001b[38;5;241;43m=\u001b[39;49m\u001b[43mX\u001b[49m\u001b[43m,\u001b[49m\n\u001b[0;32m   1170\u001b[0m \u001b[43m            \u001b[49m\u001b[43miteration_range\u001b[49m\u001b[38;5;241;43m=\u001b[39;49m\u001b[43miteration_range\u001b[49m\u001b[43m,\u001b[49m\n\u001b[0;32m   1171\u001b[0m \u001b[43m            \u001b[49m\u001b[43mpredict_type\u001b[49m\u001b[38;5;241;43m=\u001b[39;49m\u001b[38;5;124;43m\"\u001b[39;49m\u001b[38;5;124;43mmargin\u001b[39;49m\u001b[38;5;124;43m\"\u001b[39;49m\u001b[43m \u001b[49m\u001b[38;5;28;43;01mif\u001b[39;49;00m\u001b[43m \u001b[49m\u001b[43moutput_margin\u001b[49m\u001b[43m \u001b[49m\u001b[38;5;28;43;01melse\u001b[39;49;00m\u001b[43m \u001b[49m\u001b[38;5;124;43m\"\u001b[39;49m\u001b[38;5;124;43mvalue\u001b[39;49m\u001b[38;5;124;43m\"\u001b[39;49m\u001b[43m,\u001b[49m\n\u001b[0;32m   1172\u001b[0m \u001b[43m            \u001b[49m\u001b[43mmissing\u001b[49m\u001b[38;5;241;43m=\u001b[39;49m\u001b[38;5;28;43mself\u001b[39;49m\u001b[38;5;241;43m.\u001b[39;49m\u001b[43mmissing\u001b[49m\u001b[43m,\u001b[49m\n\u001b[0;32m   1173\u001b[0m \u001b[43m            \u001b[49m\u001b[43mbase_margin\u001b[49m\u001b[38;5;241;43m=\u001b[39;49m\u001b[43mbase_margin\u001b[49m\u001b[43m,\u001b[49m\n\u001b[0;32m   1174\u001b[0m \u001b[43m            \u001b[49m\u001b[43mvalidate_features\u001b[49m\u001b[38;5;241;43m=\u001b[39;49m\u001b[43mvalidate_features\u001b[49m\u001b[43m,\u001b[49m\n\u001b[0;32m   1175\u001b[0m \u001b[43m        \u001b[49m\u001b[43m)\u001b[49m\n\u001b[0;32m   1176\u001b[0m         \u001b[38;5;28;01mif\u001b[39;00m _is_cupy_array(predts):\n\u001b[0;32m   1177\u001b[0m             \u001b[38;5;28;01mimport\u001b[39;00m \u001b[38;5;21;01mcupy\u001b[39;00m  \u001b[38;5;66;03m# pylint: disable=import-error\u001b[39;00m\n",
      "File \u001b[1;32mc:\\Users\\steve\\anaconda3\\envs\\fertilizer_usage\\lib\\site-packages\\xgboost\\core.py:2418\u001b[0m, in \u001b[0;36mBooster.inplace_predict\u001b[1;34m(self, data, iteration_range, predict_type, missing, validate_features, base_margin, strict_shape)\u001b[0m\n\u001b[0;32m   2416\u001b[0m     data, fns, _ \u001b[38;5;241m=\u001b[39m _transform_pandas_df(data, enable_categorical)\n\u001b[0;32m   2417\u001b[0m     \u001b[38;5;28;01mif\u001b[39;00m validate_features:\n\u001b[1;32m-> 2418\u001b[0m         \u001b[38;5;28;43mself\u001b[39;49m\u001b[38;5;241;43m.\u001b[39;49m\u001b[43m_validate_features\u001b[49m\u001b[43m(\u001b[49m\u001b[43mfns\u001b[49m\u001b[43m)\u001b[49m\n\u001b[0;32m   2419\u001b[0m \u001b[38;5;28;01mif\u001b[39;00m _is_list(data) \u001b[38;5;129;01mor\u001b[39;00m _is_tuple(data):\n\u001b[0;32m   2420\u001b[0m     data \u001b[38;5;241m=\u001b[39m np\u001b[38;5;241m.\u001b[39marray(data)\n",
      "File \u001b[1;32mc:\\Users\\steve\\anaconda3\\envs\\fertilizer_usage\\lib\\site-packages\\xgboost\\core.py:2970\u001b[0m, in \u001b[0;36mBooster._validate_features\u001b[1;34m(self, feature_names)\u001b[0m\n\u001b[0;32m   2964\u001b[0m \u001b[38;5;28;01mif\u001b[39;00m my_missing:\n\u001b[0;32m   2965\u001b[0m     msg \u001b[38;5;241m+\u001b[39m\u001b[38;5;241m=\u001b[39m (\n\u001b[0;32m   2966\u001b[0m         \u001b[38;5;124m\"\u001b[39m\u001b[38;5;130;01m\\n\u001b[39;00m\u001b[38;5;124mtraining data did not have the following fields: \u001b[39m\u001b[38;5;124m\"\u001b[39m\n\u001b[0;32m   2967\u001b[0m         \u001b[38;5;241m+\u001b[39m \u001b[38;5;124m\"\u001b[39m\u001b[38;5;124m, \u001b[39m\u001b[38;5;124m\"\u001b[39m\u001b[38;5;241m.\u001b[39mjoin(\u001b[38;5;28mstr\u001b[39m(s) \u001b[38;5;28;01mfor\u001b[39;00m s \u001b[38;5;129;01min\u001b[39;00m my_missing)\n\u001b[0;32m   2968\u001b[0m     )\n\u001b[1;32m-> 2970\u001b[0m \u001b[38;5;28;01mraise\u001b[39;00m \u001b[38;5;167;01mValueError\u001b[39;00m(msg\u001b[38;5;241m.\u001b[39mformat(\u001b[38;5;28mself\u001b[39m\u001b[38;5;241m.\u001b[39mfeature_names, feature_names))\n",
      "\u001b[1;31mValueError\u001b[0m: feature_names mismatch: ['Year', 'Area_report', 'Fert_perc', 'Area_fert', 'Area_FAOStat', 'Perc_Agr_Area_FAOStat', 'GDP_Capita_WB', 'GDP_perCapita_UN', 'Urea_Price', 'P_rock_Price', 'K2O_Price', 'Crop_Global_Price', 'Country_total_N', 'Country_total_P2O5', 'Country_total_K2O', 'Area_Irrig', 'Edu_Exp', 'pop_pressure', 'Avg_Size_Hold', 'Avg_Size_Hold_stand', 'MAP', 'N_removal', 'P_removal', 'K_removal', 'N_removal_ha', 'P_removal_ha', 'K_removal_ha', 'Avg_sqKm', 'K2O_perc_area', 'P_cost', 'N_cost', 'K_cost', 'soil_clay', 'soil_ph', 'soil_sand', 'soil_silt', 'soil_cec', 'soil_nitrogen', 'soil_ocs', 'AI', 'K2O_ha_cropland', 'P2O5_ha_cropland', 'N_ha_cropland', 'PET', 'TMN', 'Crop_Price_Real', 'Crop_Price_Nominal', 'n_mac_ag', 'Crop_Code_1_1', 'Crop_Code_1_2', 'Crop_Code_1_3', 'Crop_Code_1_4', 'Crop_Code_2_1', 'Crop_Code_2_2', 'Crop_Code_2_3', 'Crop_Code_3_1', 'Crop_Code_3_2', 'Crop_Code_4', 'Crop_Code_5', 'Crop_Code_6', 'Crop_Code_7', 'Region_Name_Australia and New Zealand', 'Region_Name_Caribbean', 'Region_Name_Central America', 'Region_Name_Central Asia', 'Region_Name_Eastern Africa', 'Region_Name_Eastern Asia', 'Region_Name_Eastern Europe', 'Region_Name_Melanesia', 'Region_Name_Middle Africa', 'Region_Name_Northern Africa', 'Region_Name_Northern America', 'Region_Name_Northern Europe', 'Region_Name_South America', 'Region_Name_South-eastern Asia', 'Region_Name_Southern Africa', 'Region_Name_Southern Asia', 'Region_Name_Southern Europe', 'Region_Name_Western Africa', 'Region_Name_Western Asia', 'Region_Name_Western Europe', 'FAOStat_area_code_10', 'FAOStat_area_code_100', 'FAOStat_area_code_101', 'FAOStat_area_code_102', 'FAOStat_area_code_104', 'FAOStat_area_code_105', 'FAOStat_area_code_106', 'FAOStat_area_code_107', 'FAOStat_area_code_11', 'FAOStat_area_code_110', 'FAOStat_area_code_112', 'FAOStat_area_code_114', 'FAOStat_area_code_115', 'FAOStat_area_code_117', 'FAOStat_area_code_118', 'FAOStat_area_code_119', 'FAOStat_area_code_12', 'FAOStat_area_code_120', 'FAOStat_area_code_121', 'FAOStat_area_code_122', 'FAOStat_area_code_126', 'FAOStat_area_code_129', 'FAOStat_area_code_130', 'FAOStat_area_code_131', 'FAOStat_area_code_133', 'FAOStat_area_code_134', 'FAOStat_area_code_137', 'FAOStat_area_code_138', 'FAOStat_area_code_143', 'FAOStat_area_code_146', 'FAOStat_area_code_149', 'FAOStat_area_code_150', 'FAOStat_area_code_156', 'FAOStat_area_code_157', 'FAOStat_area_code_158', 'FAOStat_area_code_159', 'FAOStat_area_code_16', 'FAOStat_area_code_162', 'FAOStat_area_code_165', 'FAOStat_area_code_166', 'FAOStat_area_code_167', 'FAOStat_area_code_169', 'FAOStat_area_code_170', 'FAOStat_area_code_171', 'FAOStat_area_code_173', 'FAOStat_area_code_174', 'FAOStat_area_code_181', 'FAOStat_area_code_183', 'FAOStat_area_code_185', 'FAOStat_area_code_19', 'FAOStat_area_code_194', 'FAOStat_area_code_195', 'FAOStat_area_code_198', 'FAOStat_area_code_199', 'FAOStat_area_code_2', 'FAOStat_area_code_201', 'FAOStat_area_code_202', 'FAOStat_area_code_203', 'FAOStat_area_code_206', 'FAOStat_area_code_208', 'FAOStat_area_code_21', 'FAOStat_area_code_210', 'FAOStat_area_code_211', 'FAOStat_area_code_212', 'FAOStat_area_code_214', 'FAOStat_area_code_215', 'FAOStat_area_code_216', 'FAOStat_area_code_217', 'FAOStat_area_code_221', 'FAOStat_area_code_222', 'FAOStat_area_code_223', 'FAOStat_area_code_225', 'FAOStat_area_code_229', 'FAOStat_area_code_230', 'FAOStat_area_code_231', 'FAOStat_area_code_233', 'FAOStat_area_code_234', 'FAOStat_area_code_235', 'FAOStat_area_code_236', 'FAOStat_area_code_237', 'FAOStat_area_code_238', 'FAOStat_area_code_246', 'FAOStat_area_code_247', 'FAOStat_area_code_249', 'FAOStat_area_code_251', 'FAOStat_area_code_255', 'FAOStat_area_code_27', 'FAOStat_area_code_28', 'FAOStat_area_code_29', 'FAOStat_area_code_3', 'FAOStat_area_code_32', 'FAOStat_area_code_33', 'FAOStat_area_code_37', 'FAOStat_area_code_38', 'FAOStat_area_code_39', 'FAOStat_area_code_4', 'FAOStat_area_code_40', 'FAOStat_area_code_41', 'FAOStat_area_code_44', 'FAOStat_area_code_48', 'FAOStat_area_code_50', 'FAOStat_area_code_52', 'FAOStat_area_code_53', 'FAOStat_area_code_54', 'FAOStat_area_code_56', 'FAOStat_area_code_57', 'FAOStat_area_code_58', 'FAOStat_area_code_59', 'FAOStat_area_code_60', 'FAOStat_area_code_63', 'FAOStat_area_code_66', 'FAOStat_area_code_67', 'FAOStat_area_code_68', 'FAOStat_area_code_7', 'FAOStat_area_code_75', 'FAOStat_area_code_78', 'FAOStat_area_code_79', 'FAOStat_area_code_81', 'FAOStat_area_code_84', 'FAOStat_area_code_89', 'FAOStat_area_code_9', 'FAOStat_area_code_90', 'FAOStat_area_code_91', 'FAOStat_area_code_95', 'FAOStat_area_code_97', 'FAOStat_area_code_98'] ['Year', 'Area_report', 'Fert_perc', 'Area_fert', 'Area_FAOStat', 'Perc_Agr_Area_FAOStat', 'GDP_Capita_WB', 'GDP_perCapita_UN', 'Urea_Price', 'P_rock_Price', 'K2O_Price', 'Crop_Global_Price', 'Country_total_N', 'Country_total_P2O5', 'Country_total_K2O', 'Area_Irrig', 'Edu_Exp', 'pop_pressure', 'Avg_Size_Hold', 'Avg_Size_Hold_stand', 'MAP', 'N_removal', 'P_removal', 'K_removal', 'N_removal_ha', 'P_removal_ha', 'K_removal_ha', 'Avg_sqKm', 'K2O_perc_area', 'P_cost', 'N_cost', 'K_cost', 'soil_clay', 'soil_ph', 'soil_sand', 'soil_silt', 'soil_cec', 'soil_nitrogen', 'soil_ocs', 'AI', 'K2O_ha_cropland', 'P2O5_ha_cropland', 'N_ha_cropland', 'PET', 'TMN', 'Crop_Price_Real', 'Crop_Price_Nominal', 'n_mac_ag', 'Crop_Code_1_1', 'Crop_Code_1_2', 'Crop_Code_1_3', 'Crop_Code_1_4', 'Crop_Code_2_1', 'Crop_Code_2_2', 'Crop_Code_2_3', 'Crop_Code_3_1', 'Crop_Code_3_2', 'Crop_Code_4', 'Crop_Code_5', 'Crop_Code_6', 'Crop_Code_7', 'Region_Name_Australia and New Zealand', 'Region_Name_Caribbean', 'Region_Name_Central America', 'Region_Name_Central Asia', 'Region_Name_Eastern Africa', 'Region_Name_Eastern Asia', 'Region_Name_Eastern Europe', 'Region_Name_Melanesia', 'Region_Name_Micronesia', 'Region_Name_Middle Africa', 'Region_Name_Northern Africa', 'Region_Name_Northern America', 'Region_Name_Northern Europe', 'Region_Name_Polynesia', 'Region_Name_South America', 'Region_Name_South-eastern Asia', 'Region_Name_Southern Africa', 'Region_Name_Southern Asia', 'Region_Name_Southern Europe', 'Region_Name_Western Africa', 'Region_Name_Western Asia', 'Region_Name_Western Europe', 'FAOStat_area_code_1', 'FAOStat_area_code_10', 'FAOStat_area_code_100', 'FAOStat_area_code_101', 'FAOStat_area_code_102', 'FAOStat_area_code_103', 'FAOStat_area_code_104', 'FAOStat_area_code_105', 'FAOStat_area_code_106', 'FAOStat_area_code_107', 'FAOStat_area_code_108', 'FAOStat_area_code_109', 'FAOStat_area_code_11', 'FAOStat_area_code_110', 'FAOStat_area_code_112', 'FAOStat_area_code_113', 'FAOStat_area_code_114', 'FAOStat_area_code_115', 'FAOStat_area_code_116', 'FAOStat_area_code_117', 'FAOStat_area_code_118', 'FAOStat_area_code_119', 'FAOStat_area_code_12', 'FAOStat_area_code_120', 'FAOStat_area_code_121', 'FAOStat_area_code_122', 'FAOStat_area_code_123', 'FAOStat_area_code_124', 'FAOStat_area_code_126', 'FAOStat_area_code_127', 'FAOStat_area_code_128', 'FAOStat_area_code_129', 'FAOStat_area_code_13', 'FAOStat_area_code_130', 'FAOStat_area_code_131', 'FAOStat_area_code_132', 'FAOStat_area_code_133', 'FAOStat_area_code_134', 'FAOStat_area_code_135', 'FAOStat_area_code_136', 'FAOStat_area_code_137', 'FAOStat_area_code_138', 'FAOStat_area_code_14', 'FAOStat_area_code_141', 'FAOStat_area_code_143', 'FAOStat_area_code_144', 'FAOStat_area_code_145', 'FAOStat_area_code_146', 'FAOStat_area_code_147', 'FAOStat_area_code_148', 'FAOStat_area_code_149', 'FAOStat_area_code_150', 'FAOStat_area_code_153', 'FAOStat_area_code_154', 'FAOStat_area_code_155', 'FAOStat_area_code_156', 'FAOStat_area_code_157', 'FAOStat_area_code_158', 'FAOStat_area_code_159', 'FAOStat_area_code_16', 'FAOStat_area_code_160', 'FAOStat_area_code_162', 'FAOStat_area_code_165', 'FAOStat_area_code_166', 'FAOStat_area_code_167', 'FAOStat_area_code_168', 'FAOStat_area_code_169', 'FAOStat_area_code_170', 'FAOStat_area_code_171', 'FAOStat_area_code_173', 'FAOStat_area_code_174', 'FAOStat_area_code_175', 'FAOStat_area_code_176', 'FAOStat_area_code_177', 'FAOStat_area_code_178', 'FAOStat_area_code_179', 'FAOStat_area_code_18', 'FAOStat_area_code_181', 'FAOStat_area_code_182', 'FAOStat_area_code_183', 'FAOStat_area_code_184', 'FAOStat_area_code_185', 'FAOStat_area_code_186', 'FAOStat_area_code_188', 'FAOStat_area_code_189', 'FAOStat_area_code_19', 'FAOStat_area_code_191', 'FAOStat_area_code_193', 'FAOStat_area_code_194', 'FAOStat_area_code_195', 'FAOStat_area_code_196', 'FAOStat_area_code_197', 'FAOStat_area_code_198', 'FAOStat_area_code_199', 'FAOStat_area_code_2', 'FAOStat_area_code_20', 'FAOStat_area_code_200', 'FAOStat_area_code_201', 'FAOStat_area_code_202', 'FAOStat_area_code_203', 'FAOStat_area_code_206', 'FAOStat_area_code_207', 'FAOStat_area_code_208', 'FAOStat_area_code_209', 'FAOStat_area_code_21', 'FAOStat_area_code_210', 'FAOStat_area_code_211', 'FAOStat_area_code_212', 'FAOStat_area_code_213', 'FAOStat_area_code_214', 'FAOStat_area_code_215', 'FAOStat_area_code_216', 'FAOStat_area_code_217', 'FAOStat_area_code_218', 'FAOStat_area_code_219', 'FAOStat_area_code_220', 'FAOStat_area_code_221', 'FAOStat_area_code_222', 'FAOStat_area_code_223', 'FAOStat_area_code_225', 'FAOStat_area_code_226', 'FAOStat_area_code_227', 'FAOStat_area_code_228', 'FAOStat_area_code_229', 'FAOStat_area_code_23', 'FAOStat_area_code_230', 'FAOStat_area_code_231', 'FAOStat_area_code_233', 'FAOStat_area_code_234', 'FAOStat_area_code_235', 'FAOStat_area_code_236', 'FAOStat_area_code_237', 'FAOStat_area_code_238', 'FAOStat_area_code_244', 'FAOStat_area_code_246', 'FAOStat_area_code_247', 'FAOStat_area_code_248', 'FAOStat_area_code_249', 'FAOStat_area_code_25', 'FAOStat_area_code_250', 'FAOStat_area_code_251', 'FAOStat_area_code_255', 'FAOStat_area_code_256', 'FAOStat_area_code_26', 'FAOStat_area_code_27', 'FAOStat_area_code_272', 'FAOStat_area_code_273', 'FAOStat_area_code_276', 'FAOStat_area_code_277', 'FAOStat_area_code_28', 'FAOStat_area_code_29', 'FAOStat_area_code_299', 'FAOStat_area_code_3', 'FAOStat_area_code_32', 'FAOStat_area_code_33', 'FAOStat_area_code_35', 'FAOStat_area_code_351', 'FAOStat_area_code_37', 'FAOStat_area_code_38', 'FAOStat_area_code_39', 'FAOStat_area_code_4', 'FAOStat_area_code_40', 'FAOStat_area_code_41', 'FAOStat_area_code_44', 'FAOStat_area_code_45', 'FAOStat_area_code_46', 'FAOStat_area_code_47', 'FAOStat_area_code_48', 'FAOStat_area_code_49', 'FAOStat_area_code_50', 'FAOStat_area_code_51', 'FAOStat_area_code_52', 'FAOStat_area_code_53', 'FAOStat_area_code_54', 'FAOStat_area_code_55', 'FAOStat_area_code_56', 'FAOStat_area_code_57', 'FAOStat_area_code_58', 'FAOStat_area_code_59', 'FAOStat_area_code_60', 'FAOStat_area_code_61', 'FAOStat_area_code_62', 'FAOStat_area_code_63', 'FAOStat_area_code_64', 'FAOStat_area_code_66', 'FAOStat_area_code_67', 'FAOStat_area_code_68', 'FAOStat_area_code_69', 'FAOStat_area_code_7', 'FAOStat_area_code_70', 'FAOStat_area_code_72', 'FAOStat_area_code_73', 'FAOStat_area_code_74', 'FAOStat_area_code_75', 'FAOStat_area_code_78', 'FAOStat_area_code_79', 'FAOStat_area_code_8', 'FAOStat_area_code_80', 'FAOStat_area_code_81', 'FAOStat_area_code_83', 'FAOStat_area_code_84', 'FAOStat_area_code_86', 'FAOStat_area_code_87', 'FAOStat_area_code_89', 'FAOStat_area_code_9', 'FAOStat_area_code_90', 'FAOStat_area_code_91', 'FAOStat_area_code_93', 'FAOStat_area_code_95', 'FAOStat_area_code_96', 'FAOStat_area_code_97', 'FAOStat_area_code_98', 'FAOStat_area_code_99']\ntraining data did not have the following fields: FAOStat_area_code_45, FAOStat_area_code_189, FAOStat_area_code_70, FAOStat_area_code_55, FAOStat_area_code_256, FAOStat_area_code_46, FAOStat_area_code_273, FAOStat_area_code_228, FAOStat_area_code_73, FAOStat_area_code_124, Region_Name_Polynesia, FAOStat_area_code_250, FAOStat_area_code_272, FAOStat_area_code_147, FAOStat_area_code_96, FAOStat_area_code_196, FAOStat_area_code_93, FAOStat_area_code_186, FAOStat_area_code_153, FAOStat_area_code_1, FAOStat_area_code_51, FAOStat_area_code_26, FAOStat_area_code_227, FAOStat_area_code_244, FAOStat_area_code_35, FAOStat_area_code_47, FAOStat_area_code_14, FAOStat_area_code_86, FAOStat_area_code_193, FAOStat_area_code_103, FAOStat_area_code_219, FAOStat_area_code_154, FAOStat_area_code_148, FAOStat_area_code_218, FAOStat_area_code_109, FAOStat_area_code_213, FAOStat_area_code_176, FAOStat_area_code_226, FAOStat_area_code_99, FAOStat_area_code_209, FAOStat_area_code_49, FAOStat_area_code_175, FAOStat_area_code_178, FAOStat_area_code_277, FAOStat_area_code_61, FAOStat_area_code_207, FAOStat_area_code_25, FAOStat_area_code_69, FAOStat_area_code_13, FAOStat_area_code_168, FAOStat_area_code_276, FAOStat_area_code_135, FAOStat_area_code_20, FAOStat_area_code_80, Region_Name_Micronesia, FAOStat_area_code_200, FAOStat_area_code_64, FAOStat_area_code_116, FAOStat_area_code_127, FAOStat_area_code_83, FAOStat_area_code_299, FAOStat_area_code_72, FAOStat_area_code_136, FAOStat_area_code_18, FAOStat_area_code_108, FAOStat_area_code_184, FAOStat_area_code_62, FAOStat_area_code_23, FAOStat_area_code_145, FAOStat_area_code_182, FAOStat_area_code_351, FAOStat_area_code_113, FAOStat_area_code_132, FAOStat_area_code_160, FAOStat_area_code_188, FAOStat_area_code_87, FAOStat_area_code_74, FAOStat_area_code_141, FAOStat_area_code_144, FAOStat_area_code_155, FAOStat_area_code_177, FAOStat_area_code_123, FAOStat_area_code_8, FAOStat_area_code_128, FAOStat_area_code_197, FAOStat_area_code_220, FAOStat_area_code_191, FAOStat_area_code_179, FAOStat_area_code_248"
     ]
    }
   ],
   "source": [
    "# TODO: add type hints\n",
    "\n",
    "def ohe(input_data, config):\n",
    "    \n",
    "    datapath = Path().resolve().parent.resolve() / 'data'\n",
    "    dtype = data_preprocessing.get_data_types(config)\n",
    "    all_data = pd.read_csv(f'{datapath}/{config.csv_files[\"features\"]}', dtype=dtype, usecols=dtype.keys()) \n",
    "\n",
    "    input_data_ohe = data_preprocessing.one_hot_encoding(input_data)\n",
    "\n",
    "    return input_data_ohe\n",
    "\n",
    "def load_input_data(resultspath: Path, it: int = 0, test: bool = False, config=config):\n",
    "    dtype = data_preprocessing.get_data_types(config)\n",
    "    X = pd.read_csv(resultspath / f'data/{\"test\" if test else \"train\"}_set_{it}.csv', index_col=0, dtype=dtype)\n",
    "    return X\n",
    "\n",
    "def make_prediction(estimator, X, config):\n",
    "    # drop the last column, which is the target\n",
    "    if config.target in X.columns:\n",
    "        X = X.drop(config.target, axis=1)\n",
    "    X = ohe(X, config)\n",
    "    y_pred = pd.Series(\n",
    "            estimator.model.predict(X),\n",
    "            index=X.index,\n",
    "            name='predicted_' + config.target,\n",
    "        )\n",
    "    return y_pred\n",
    "\n",
    "for estimator_name, estimator_cls in estimators.items():\n",
    "    print(estimator_name)\n",
    "    estimator = estimator_cls(outpath=resultspath)\n",
    "    estimator = estimator.load(path=estimator.output_path, it=0)\n",
    "    X = load_input_data(resultspath, it=0, test=True, config=config)    \n",
    "    y_pred = make_prediction(estimator, X, config)\n",
    "\n",
    "    # check if the predictions match\n",
    "    print((y_pred != estimator.y_pred).any())\n",
    "\n"
   ]
  },
  {
   "cell_type": "code",
   "execution_count": 6,
   "metadata": {},
   "outputs": [
    {
     "name": "stdout",
     "output_type": "stream",
     "text": [
      "HistGradientBoostRegressor\n"
     ]
    }
   ],
   "source": [
    "full_dataset = data_preprocessing.load_all_data(config=config)\n",
    "\n",
    "for estimator_name, estimator_cls in estimators.items():\n",
    "    if 'Hist' in estimator_name:\n",
    "        print(estimator_name)\n",
    "        estimator = estimator_cls(outpath=resultspath)\n",
    "        estimator = estimator.load(path=estimator.output_path, it=0)  \n",
    "        y_pred = make_prediction(estimator, full_dataset, config)"
   ]
  },
  {
   "cell_type": "code",
   "execution_count": 7,
   "metadata": {},
   "outputs": [
    {
     "data": {
      "text/plain": [
       "0         15.526538\n",
       "1          5.672649\n",
       "2         36.002052\n",
       "3         22.684568\n",
       "4          3.375614\n",
       "            ...    \n",
       "150018    76.304565\n",
       "150019    76.973701\n",
       "150020    73.475768\n",
       "150021    73.595969\n",
       "150022    62.826732\n",
       "Name: predicted_K2O_avg_app, Length: 150023, dtype: float64"
      ]
     },
     "execution_count": 7,
     "metadata": {},
     "output_type": "execute_result"
    }
   ],
   "source": [
    "y_pred"
   ]
  },
  {
   "cell_type": "code",
   "execution_count": 8,
   "metadata": {},
   "outputs": [
    {
     "data": {
      "text/plain": [
       "(150023, 51)"
      ]
     },
     "execution_count": 8,
     "metadata": {},
     "output_type": "execute_result"
    }
   ],
   "source": [
    "full_dataset.shape"
   ]
  },
  {
   "cell_type": "code",
   "execution_count": 11,
   "metadata": {},
   "outputs": [],
   "source": [
    "# add the predictions to the full dataset\n",
    "# full_dataset = full_dataset.join(y_pred)\n",
    "it = 0\n",
    "full_dataset.to_csv(resultspath / f'{target}_{it}_predictions.csv')"
   ]
  },
  {
   "cell_type": "code",
   "execution_count": null,
   "metadata": {},
   "outputs": [],
   "source": [
    "# TODO: for the predictions, we need to combine them from the two folds somehow\n",
    "# we could do this by taking the prediction from folds where samples were test samples\n",
    "# for those not in the train/test set, we take the average of the two predictions\n",
    "# or weigh it using the r2/rmse/... of the two predictions"
   ]
  }
 ],
 "metadata": {
  "kernelspec": {
   "display_name": "fertilizer_usage",
   "language": "python",
   "name": "python3"
  },
  "language_info": {
   "codemirror_mode": {
    "name": "ipython",
    "version": 3
   },
   "file_extension": ".py",
   "mimetype": "text/x-python",
   "name": "python",
   "nbconvert_exporter": "python",
   "pygments_lexer": "ipython3",
   "version": "3.10.13"
  }
 },
 "nbformat": 4,
 "nbformat_minor": 2
}
