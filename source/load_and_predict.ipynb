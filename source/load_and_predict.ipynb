{
 "cells": [
  {
   "cell_type": "code",
   "execution_count": null,
   "metadata": {},
   "outputs": [],
   "source": [
    "import numpy as np\n",
    "import pandas as pd\n",
    "from pathlib import Path\n",
    "import sys\n",
    "import logging\n",
    "from pprint import pprint\n",
    "\n",
    "from sklearn.model_selection import KFold\n",
    "\n",
    "sys.path.append(Path('.').absolute().parent.resolve().as_posix())\n",
    "sys.path.append((Path('.').absolute().parent / 'source').resolve().as_posix())\n",
    "from data_loader import config_loader, data_preprocessing\n",
    "from logging_util.logger import get_logger\n",
    "from models import estimators\n",
    "from evaluation import evaluation\n",
    "\n",
    "config = config_loader.load_config()\n",
    "logger = get_logger(__name__)\n",
    "logging.getLogger(\"PIL\").setLevel(logging.WARNING)\n",
    "logging.getLogger('matplotlib').setLevel(logging.WARNING)"
   ]
  },
  {
   "cell_type": "code",
   "execution_count": null,
   "metadata": {},
   "outputs": [],
   "source": [
    "estimators"
   ]
  },
  {
   "cell_type": "code",
   "execution_count": 3,
   "metadata": {},
   "outputs": [],
   "source": [
    "target = 'K2O_avg_app'\n",
    "config.target = target"
   ]
  },
  {
   "cell_type": "code",
   "execution_count": null,
   "metadata": {},
   "outputs": [],
   "source": [
    "# set path to save results\n",
    "\n",
    "resultspath = Path().resolve().parent.resolve() / 'results' / target\n",
    "resultspath"
   ]
  },
  {
   "cell_type": "code",
   "execution_count": null,
   "metadata": {},
   "outputs": [],
   "source": [
    "# function to one hot encode the input data\n",
    "def ohe(input_data, config):\n",
    "    \n",
    "    datapath = Path().resolve().parent.resolve() / 'data'\n",
    "    dtype = data_preprocessing.get_data_types(config)\n",
    "    all_data = pd.read_csv(f'{datapath}/{config.csv_files[\"features\"]}', dtype=dtype, usecols=dtype.keys()) \n",
    "\n",
    "    input_data_ohe = data_preprocessing.one_hot_encoding(input_data)\n",
    "\n",
    "    return input_data_ohe\n",
    "\n",
    "f# function to load the input data\n",
    "def load_input_data(resultspath: Path, it: int = 0, test: bool = False, config=config):\n",
    "    dtype = data_preprocessing.get_data_types(config)\n",
    "    X = pd.read_csv(resultspath / f'data/{\"test\" if test else \"train\"}_set_{it}.csv', index_col=0, dtype=dtype)\n",
    "    return X\n",
    "\n",
    "# function to make the predictions\n",
    "def make_prediction(estimator, X, config):\n",
    "    # drop the last column, which is the target\n",
    "    if config.target in X.columns:\n",
    "        X = X.drop(config.target, axis=1)\n",
    "    X = ohe(X, config)\n",
    "    y_pred = pd.Series(\n",
    "            estimator.model.predict(X),\n",
    "            index=X.index,\n",
    "            name='predicted_' + config.target,\n",
    "        )\n",
    "    return y_pred\n",
    "\n",
    "# make the predictions for all estimators\n",
    "for estimator_name, estimator_cls in estimators.items():\n",
    "    print(estimator_name)\n",
    "    estimator = estimator_cls(outpath=resultspath)\n",
    "    estimator = estimator.load(path=estimator.output_path, it=0)\n",
    "    X = load_input_data(resultspath, it=0, test=True, config=config)    \n",
    "    y_pred = make_prediction(estimator, X, config)\n",
    "\n",
    "    # check if the predictions match\n",
    "    print((y_pred != estimator.y_pred).any())\n",
    "\n"
   ]
  },
  {
   "cell_type": "code",
   "execution_count": null,
   "metadata": {},
   "outputs": [],
   "source": [
    "# make predictions for HGB\n",
    "full_dataset = data_preprocessing.load_all_data(config=config)\n",
    "\n",
    "for estimator_name, estimator_cls in estimators.items():\n",
    "    if 'Hist' in estimator_name:\n",
    "        print(estimator_name)\n",
    "        estimator = estimator_cls(outpath=resultspath)\n",
    "        estimator = estimator.load(path=estimator.output_path, it=0)  \n",
    "        y_pred = make_prediction(estimator, full_dataset, config)"
   ]
  },
  {
   "cell_type": "code",
   "execution_count": 11,
   "metadata": {},
   "outputs": [],
   "source": [
    "# add the predictions to the full dataset\n",
    "# full_dataset = full_dataset.join(y_pred)\n",
    "it = 0\n",
    "full_dataset.to_csv(resultspath / f'{target}_{it}_predictions.csv')"
   ]
  }
 ],
 "metadata": {
  "kernelspec": {
   "display_name": "fertilizer_usage",
   "language": "python",
   "name": "python3"
  },
  "language_info": {
   "codemirror_mode": {
    "name": "ipython",
    "version": 3
   },
   "file_extension": ".py",
   "mimetype": "text/x-python",
   "name": "python",
   "nbconvert_exporter": "python",
   "pygments_lexer": "ipython3",
   "version": "3.10.13"
  }
 },
 "nbformat": 4,
 "nbformat_minor": 2
}
