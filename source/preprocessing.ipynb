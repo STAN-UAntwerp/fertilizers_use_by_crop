{
 "cells": [
  {
   "cell_type": "code",
   "execution_count": null,
   "metadata": {},
   "outputs": [],
   "source": [
    "import pandas as pd\n",
    "import numpy as np\n",
    "\n",
    "import sys\n",
    "from pathlib import Path\n",
    "\n",
    "sys.path.append((Path('.').absolute().parent / 'source').resolve().as_posix())\n",
    "from data_loader import config_loader\n",
    "config = config_loader.load_config()"
   ]
  },
  {
   "cell_type": "code",
   "execution_count": 2,
   "metadata": {},
   "outputs": [],
   "source": [
    "# set data path\n",
    "full_dataset_path = '../data/FUBC_full_dataset_v3.csv'"
   ]
  },
  {
   "cell_type": "code",
   "execution_count": 3,
   "metadata": {},
   "outputs": [],
   "source": [
    "dtype_cat = {\n",
    "    key: str for key in config.categorical_var\n",
    "}\n",
    "\n",
    "dtype_num = {\n",
    "    key: np.float64 for key in config.numerical_var\n",
    "}\n",
    "\n",
    "dtype = {**dtype_cat, **dtype_num}"
   ]
  },
  {
   "cell_type": "code",
   "execution_count": 6,
   "metadata": {},
   "outputs": [],
   "source": [
    "dtype['N_avg_app'] = np.float64\n",
    "dtype['K2O_avg_app'] = np.float64\n",
    "dtype['P2O5_avg_app'] = np.float64"
   ]
  },
  {
   "cell_type": "code",
   "execution_count": 7,
   "metadata": {},
   "outputs": [],
   "source": [
    "df = pd.read_csv(full_dataset_path, dtype=dtype, usecols=dtype.keys())"
   ]
  },
  {
   "cell_type": "code",
   "execution_count": 8,
   "metadata": {},
   "outputs": [],
   "source": [
    "# make a subset of the data, keep only rows where all fertilizer use data is available\n",
    "df_subset = df[df['N_avg_app'].notnull() & df['P2O5_avg_app'].notnull() & df['K2O_avg_app'].notnull()]"
   ]
  },
  {
   "cell_type": "code",
   "execution_count": 9,
   "metadata": {},
   "outputs": [
    {
     "data": {
      "text/plain": [
       "3713"
      ]
     },
     "execution_count": 9,
     "metadata": {},
     "output_type": "execute_result"
    }
   ],
   "source": [
    "len(df_subset)"
   ]
  },
  {
   "cell_type": "code",
   "execution_count": 10,
   "metadata": {},
   "outputs": [
    {
     "data": {
      "text/plain": [
       "3712"
      ]
     },
     "execution_count": 10,
     "metadata": {},
     "output_type": "execute_result"
    }
   ],
   "source": [
    "# find the rows with N_avg_app > 5000 and drop them\n",
    "df_subset = df_subset[df_subset['N_avg_app'] < 5000]\n",
    "len(df_subset)"
   ]
  },
  {
   "cell_type": "code",
   "execution_count": 11,
   "metadata": {},
   "outputs": [],
   "source": [
    "# split the df into train data and target variables\n",
    "\n",
    "# target variables\n",
    "y_N = df_subset['N_avg_app']\n",
    "y_P = df_subset['P2O5_avg_app']\n",
    "y_K = df_subset['K2O_avg_app']\n",
    "\n",
    "# train data\n",
    "X = df_subset.drop(['N_avg_app', 'P2O5_avg_app', 'K2O_avg_app'], axis=1)"
   ]
  },
  {
   "cell_type": "code",
   "execution_count": 12,
   "metadata": {},
   "outputs": [],
   "source": [
    "# save the data\n",
    "X.to_csv('../data/X.csv', index=False)\n",
    "y_N.to_csv('../data/y_N.csv', index=False)\n",
    "y_P.to_csv('../data/y_P.csv', index=False)\n",
    "y_K.to_csv('../data/y_K.csv', index=False)"
   ]
  }
 ],
 "metadata": {
  "kernelspec": {
   "display_name": "fer_visit",
   "language": "python",
   "name": "python3"
  },
  "language_info": {
   "codemirror_mode": {
    "name": "ipython",
    "version": 3
   },
   "file_extension": ".py",
   "mimetype": "text/x-python",
   "name": "python",
   "nbconvert_exporter": "python",
   "pygments_lexer": "ipython3",
   "version": "3.10.13"
  },
  "orig_nbformat": 4
 },
 "nbformat": 4,
 "nbformat_minor": 2
}
