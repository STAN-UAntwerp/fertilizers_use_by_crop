{
 "cells": [
  {
   "cell_type": "code",
   "execution_count": null,
   "metadata": {},
   "outputs": [],
   "source": [
    "import pandas as pd \n",
    "import numpy as np \n",
    "import rasterio"
   ]
  },
  {
   "cell_type": "code",
   "execution_count": null,
   "metadata": {},
   "outputs": [],
   "source": [
    "#Function to fill matrix with average of closest cells at same distance\n",
    "def make_neighbor_map(crop_part):\n",
    "    tif_file_sum = \"input/{crop_part}_MC.tif\".format(crop_part=crop_part)\n",
    "    with rasterio.open(tif_file_sum) as src:\n",
    "        mc_map = src.read(1)    \n",
    "    final_mask = mc_map == 0   \n",
    "    filled_matrix = mc_map.copy()\n",
    "    rows, cols = mc_map.shape\n",
    "    zero_indices = np.argwhere(final_mask)\n",
    "    print(crop_part,zero_indices.shape)\n",
    "    number = 1\n",
    "    for i, j in zero_indices:\n",
    "        neighbors = []\n",
    "        for x in range(max(0, i - 1), min(rows, i + 2)):\n",
    "            for y in range(max(0, j - 1), min(cols, j + 2)):\n",
    "                if mc_map[x, y] != 0:\n",
    "                    neighbors.append(mc_map[x, y])\n",
    "        \n",
    "        if not neighbors:\n",
    "            distance = 1\n",
    "            while not neighbors:\n",
    "                for x in range(max(0, i - distance), min(rows, i + distance + 1)):\n",
    "                    for y in range(max(0, j - distance), min(cols, j + distance + 1)):\n",
    "                        if abs(x - i) == distance or abs(y - j) == distance:\n",
    "                            if mc_map[x, y] != 0:\n",
    "                                neighbors.append(mc_map[x, y])\n",
    "                distance += 1\n",
    "                if distance > 50:\n",
    "                    break\n",
    "        if neighbors:\n",
    "            filled_matrix[i, j] = np.mean(neighbors)\n",
    "        number = number +1\n",
    "    with rasterio.open(\"input/MC_Neighbor_{crop_part}.tiff\".format(crop_part=crop_part), 'w', **metadata) as output_raster:\n",
    "        output_raster.write(H_Area_M,1)"
   ]
  },
  {
   "cell_type": "code",
   "execution_count": null,
   "metadata": {},
   "outputs": [],
   "source": [
    "def closest_non_zero_cell(matrix, target_row, target_col):\n",
    "    non_zero_mask = matrix != 0\n",
    "    non_zero_indices = np.transpose(np.nonzero(non_zero_mask))\n",
    "    min_distance = float('inf')\n",
    "    closest_cell = None\n",
    "    for row, col in non_zero_indices:\n",
    "        distance = abs(row - target_row) + abs(col - target_col)\n",
    "        if distance < min_distance:\n",
    "            min_distance = distance\n",
    "            closest_cell = (row, col)\n",
    "    return closest_cell"
   ]
  },
  {
   "cell_type": "code",
   "execution_count": null,
   "metadata": {},
   "outputs": [],
   "source": [
    "#Function to fill matrix with average of closest cells at same distance\n",
    "def fill_zeros_with_avg(matrix,final_mask):\n",
    "    filled_matrix = matrix.copy()\n",
    "    zero_indices = np.argwhere(final_mask)\n",
    "    for i, j in zero_indices:\n",
    "        index_fill = closest_non_zero_cell(matrix, i, j)\n",
    "        row, col = index_fill\n",
    "        filled_matrix[i, j] = filled_matrix[row, col] \n",
    "    output = np.where(final_mask, filled_matrix, matrix)    \n",
    "    return output "
   ]
  },
  {
   "cell_type": "code",
   "execution_count": null,
   "metadata": {},
   "outputs": [],
   "source": [
    "#Function to fill matrix\n",
    "def fill_zeros_with_avg(matrix,final_mask):\n",
    "    filled_matrix = matrix.copy()\n",
    "    zero_indices = np.argwhere(final_mask)\n",
    "    for i, j in zero_indices:\n",
    "        for rr in [5,10,25,50,100,150,200,250]:\n",
    "            min_row = max(0, i - rr)\n",
    "            max_row = min(matrix.shape[0], i + rr+1)\n",
    "            min_col = max(0, j - rr)\n",
    "            max_col = min(matrix.shape[1], j + rr+1)\n",
    "            grid = matrix[min_row:max_row, min_col:max_col]\n",
    "            if np.mean(grid) > 0:\n",
    "                filled_matrix[i, j] = np.mean(grid)\n",
    "                break\n",
    "    output = np.where(final_mask, filled_matrix, matrix)    \n",
    "    return output "
   ]
  },
  {
   "cell_type": "code",
   "execution_count": null,
   "metadata": {},
   "outputs": [],
   "source": [
    "#Function to calculate the division of monfreda and hyde based on the crop \n",
    "def start_eq_1(crop_part,year):\n",
    "    \n",
    "    tif_file = \"input/{crop_part}_MC.tif\".format(crop_part=crop_part)\n",
    "    tif_file_sum = \"input/Sum_MC.tif\"\n",
    "    if crop_part == \"Rice\": \n",
    "        asc_file = \"Hyde_3.3_LU/{year}AD_lu/tot_rice{year}AD.asc\".format(year=year)\n",
    "        asc_file_2000 = \"Hyde_3.3_LU/2000AD_lu/tot_rice2000AD.asc\"\n",
    "        tif_file_sum = tif_file\n",
    "    else:\n",
    "        asc_file = \"Hyde_3.3_LU/{year}AD_lu/cropland{year}AD.asc\".format(year=year)\n",
    "        asc_file_2000 = \"Hyde_3.3_LU/2000AD_lu/cropland2000AD.asc\"\n",
    "    \n",
    "    with rasterio.open(tif_file) as src:\n",
    "        MC_Crop_data = src.read(1)\n",
    "        metadata = src.profile\n",
    "    \n",
    "    with rasterio.open(asc_file_2000) as src:\n",
    "        Hyde_2000_data = src.read(1)\n",
    "    Hyde_2000_data = np.where(Hyde_2000_data == -9999.0, 0, Hyde_2000_data)\n",
    "\n",
    "    with rasterio.open(asc_file) as src:\n",
    "        Hyde_data_year = src.read(1)\n",
    "    Hyde_data_year = np.where(Hyde_data_year == -9999.0, 0, Hyde_data_year)\n",
    "    \n",
    "    with rasterio.open(tif_file_sum) as src:\n",
    "        monfreda_sum = src.read(1)\n",
    "        \n",
    "    mask1 = Hyde_data_year > 0\n",
    "    mask2 = monfreda_sum == 0\n",
    "    final_mask = np.logical_and(mask1, mask2)\n",
    "    \n",
    "    MC_Crop_data = fill_zeros_with_avg(MC_Crop_data,final_mask)\n",
    "    div_res = np.divide(MC_Crop_data, Hyde_2000_data, \n",
    "                        out=np.zeros_like(MC_Crop_data), where=(Hyde_2000_data != 0))\n",
    "    H_Area_M = div_res * Hyde_data_year\n",
    "    \n",
    "    with rasterio.open(\"input/EQ1_{crop_part}_{year}.tiff\".format(crop_part=crop_part,\n",
    "                                                                  year=year), 'w', **metadata) as output_raster:\n",
    "        output_raster.write(H_Area_M,1)"
   ]
  },
  {
   "cell_type": "code",
   "execution_count": null,
   "metadata": {},
   "outputs": [],
   "source": [
    "crop_data_all = pd.DataFrame({\n",
    "    \"crop_code\": [\"1_1\", \"1_2\", \"1_3\", \"1_4\", \"2_1\", \"2_2\", \"2_3\", \"3_1\", \"3_2\", \"4\", \"5\", \"6\", \"7\"],\n",
    "    \"crop_name\": [\"Wheat\", \"Maize\", \"Rice\", \"Other Cereals\", \"Soybean\", \"Palm Oil fruit\", \"Other Oilseeds\", \"Vegetables\", \"Fruits\", \"Roots and tubers\", \"Sugar crops\", \"Fiber crops\", \"Other crops\"]\n",
    "})\n",
    "for year in range(1960, 1969):\n",
    "    for i,row in crop_data_all.iterrows():\n",
    "        print(row['crop_name'],year)\n",
    "        start_eq_1(row['crop_name'],year)"
   ]
  },
  {
   "cell_type": "code",
   "execution_count": null,
   "metadata": {},
   "outputs": [],
   "source": []
  }
 ],
 "metadata": {
  "kernelspec": {
   "display_name": "Python 3",
   "language": "python",
   "name": "python3"
  },
  "language_info": {
   "codemirror_mode": {
    "name": "ipython",
    "version": 3
   },
   "file_extension": ".py",
   "mimetype": "text/x-python",
   "name": "python",
   "nbconvert_exporter": "python",
   "pygments_lexer": "ipython3",
   "version": "3.8.5"
  }
 },
 "nbformat": 4,
 "nbformat_minor": 4
}
