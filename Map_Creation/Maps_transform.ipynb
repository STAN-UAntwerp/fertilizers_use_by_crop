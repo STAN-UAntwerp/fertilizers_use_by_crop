{
 "cells": [
  {
   "cell_type": "code",
   "execution_count": 1,
   "metadata": {},
   "outputs": [],
   "source": [
    "import pandas as pd \n",
    "import numpy as np"
   ]
  },
  {
   "cell_type": "code",
   "execution_count": 26,
   "metadata": {},
   "outputs": [],
   "source": [
    "df_1 = pd.read_csv('input/pred_corr.csv')\n",
    "df_1 = df_1[['FAOStat_area_code', 'Year', 'Crop_Code', 'predicted_P2O5_avg_app',\n",
    "       'predicted_K2O_avg_app', 'predicted_N_avg_app']]\n",
    "df_2 = pd.read_csv('input/Prediction_corrected.csv')\n",
    "df_2 = df_2[['FAOStat_area_code', 'Crop_Code', 'Year',\n",
    "       'predicted_N_avg_app_cor', 'predicted_K2O_avg_app_cor',\n",
    "       'predicted_P2O5_avg_app_cor']]\n",
    "merged_df = pd.merge(df_1, df_2, on=['FAOStat_area_code', 'Crop_Code', 'Year'], how='left')\n",
    "merged_df['predicted_N_avg_app'] = np.where(~merged_df['predicted_N_avg_app_cor'].isnull(),\n",
    "                                      merged_df['predicted_N_avg_app_cor'],\n",
    "                                      merged_df['predicted_N_avg_app'])\n",
    "merged_df['predicted_K2O_avg_app'] = np.where(~merged_df['predicted_K2O_avg_app_cor'].isnull(),\n",
    "                                      merged_df['predicted_K2O_avg_app_cor'],\n",
    "                                      merged_df['predicted_K2O_avg_app'])\n",
    "merged_df['predicted_P2O5_avg_app'] = np.where(~merged_df['predicted_P2O5_avg_app_cor'].isnull(),\n",
    "                                      merged_df['predicted_P2O5_avg_app_cor'],\n",
    "                                      merged_df['predicted_P2O5_avg_app'])\n",
    "merged_df.to_csv('input/pred_corr_V2.csv', index=False)"
   ]
  },
  {
   "cell_type": "code",
   "execution_count": null,
   "metadata": {},
   "outputs": [],
   "source": []
  },
  {
   "cell_type": "code",
   "execution_count": null,
   "metadata": {},
   "outputs": [],
   "source": []
  }
 ],
 "metadata": {
  "kernelspec": {
   "display_name": "Python 3",
   "language": "python",
   "name": "python3"
  },
  "language_info": {
   "codemirror_mode": {
    "name": "ipython",
    "version": 3
   },
   "file_extension": ".py",
   "mimetype": "text/x-python",
   "name": "python",
   "nbconvert_exporter": "python",
   "pygments_lexer": "ipython3",
   "version": "3.8.5"
  }
 },
 "nbformat": 4,
 "nbformat_minor": 4
}
